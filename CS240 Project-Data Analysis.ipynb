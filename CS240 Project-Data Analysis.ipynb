{
 "cells": [
  {
   "cell_type": "code",
   "execution_count": 4,
   "id": "7a7ff176",
   "metadata": {},
   "outputs": [],
   "source": [
    "import numpy as np\n",
    "import matplotlib.pyplot as plt\n",
    "import pandas as pd"
   ]
  },
  {
   "cell_type": "code",
   "execution_count": 5,
   "id": "b8d4093a",
   "metadata": {},
   "outputs": [],
   "source": [
    "rawData = pd.read_csv('google_video.csv')"
   ]
  },
  {
   "cell_type": "code",
   "execution_count": 139,
   "id": "daae0596",
   "metadata": {
    "scrolled": true
   },
   "outputs": [
    {
     "name": "stdout",
     "output_type": "stream",
     "text": [
      "                                          Flow ID           Src IP  Src Port  \\\n",
      "0       131.202.240.87-173.194.123.110-2536-443-6   131.202.240.87      2536   \n",
      "1       173.194.204.189-131.202.240.87-443-2579-6  173.194.204.189       443   \n",
      "2        131.202.240.87-216.58.219.206-2632-443-6   131.202.240.87      2632   \n",
      "3        131.202.240.87-216.58.219.238-2611-443-6   131.202.240.87      2611   \n",
      "4     131.202.240.150-64.233.171.188-37692-5228-6  131.202.240.150     37692   \n",
      "...                                           ...              ...       ...   \n",
      "1711    131.202.240.150-131.202.244.5-48206-53-17  131.202.240.150     48206   \n",
      "1712    131.202.240.150-131.202.244.5-41495-53-17  131.202.240.150     41495   \n",
      "1713    131.202.240.150-131.202.244.5-14600-53-17  131.202.240.150     14600   \n",
      "1714    131.202.240.150-131.202.244.5-55586-53-17  131.202.240.150     55586   \n",
      "1715   131.202.240.150-216.58.219.238-47774-443-6  131.202.240.150     47774   \n",
      "\n",
      "               Dst IP  Dst Port  Protocol               Timestamp  \\\n",
      "0     173.194.123.110       443         6  30/03/2015 07:18:26 AM   \n",
      "1      131.202.240.87      2579         6  30/03/2015 07:18:27 AM   \n",
      "2      216.58.219.206       443         6  30/03/2015 07:18:27 AM   \n",
      "3      216.58.219.238       443         6  30/03/2015 07:18:38 AM   \n",
      "4      64.233.171.188      5228         6  30/03/2015 07:18:45 AM   \n",
      "...               ...       ...       ...                     ...   \n",
      "1711    131.202.244.5        53        17  30/03/2015 07:41:13 AM   \n",
      "1712    131.202.244.5        53        17  30/03/2015 07:41:13 AM   \n",
      "1713    131.202.244.5        53        17  30/03/2015 07:41:14 AM   \n",
      "1714    131.202.244.5        53        17  30/03/2015 07:41:14 AM   \n",
      "1715   216.58.219.238       443         6  30/03/2015 07:41:14 AM   \n",
      "\n",
      "      Flow Duration  Tot Fwd Pkts  Tot Bwd Pkts  ...  Active Max  Active Min  \\\n",
      "0         118910682           322           593  ...           0           0   \n",
      "1         101424268            38            29  ...           0           0   \n",
      "2          31113087            17            26  ...           0           0   \n",
      "3          60171788             8            17  ...           0           0   \n",
      "4          90150276             3             3  ...           0           0   \n",
      "...             ...           ...           ...  ...         ...         ...   \n",
      "1711            327             1             1  ...           0           0   \n",
      "1712            426             1             1  ...           0           0   \n",
      "1713            510             1             1  ...           0           0   \n",
      "1714            582             1             1  ...           0           0   \n",
      "1715         125258            11            11  ...           0           0   \n",
      "\n",
      "         Idle Mean      Idle Std      Idle Max      Idle Min     Label  \\\n",
      "0     1.427725e+15  2.982682e+07  1.427725e+15  1.427725e+15  No Label   \n",
      "1     1.427725e+15  1.838685e+07  1.427725e+15  1.427725e+15  No Label   \n",
      "2     1.427725e+15  1.218089e+07  1.427725e+15  1.427725e+15  No Label   \n",
      "3     1.427725e+15  3.043286e+07  1.427725e+15  1.427725e+15  No Label   \n",
      "4     1.427725e+15  3.674121e+07  1.427725e+15  1.427725e+15  No Label   \n",
      "...            ...           ...           ...           ...       ...   \n",
      "1711  0.000000e+00  0.000000e+00  0.000000e+00  0.000000e+00  No Label   \n",
      "1712  0.000000e+00  0.000000e+00  0.000000e+00  0.000000e+00  No Label   \n",
      "1713  0.000000e+00  0.000000e+00  0.000000e+00  0.000000e+00  No Label   \n",
      "1714  0.000000e+00  0.000000e+00  0.000000e+00  0.000000e+00  No Label   \n",
      "1715  1.427726e+15  2.995858e+04  1.427726e+15  1.427726e+15  No Label   \n",
      "\n",
      "         Category  App_protocol  Web_service  \n",
      "0             Web           TLS      Unknown  \n",
      "1             Web           TLS      Unknown  \n",
      "2             Web           TLS      Unknown  \n",
      "3             Web           TLS      Unknown  \n",
      "4     Unspecified       Unknown      Unknown  \n",
      "...           ...           ...          ...  \n",
      "1711      Network           DNS       Google  \n",
      "1712      Network           DNS       Google  \n",
      "1713      Network           DNS       Google  \n",
      "1714      Network           DNS       Google  \n",
      "1715          Web           TLS       Google  \n",
      "\n",
      "[1716 rows x 87 columns]\n",
      "(rows,columns): (1716, 87)\n"
     ]
    }
   ],
   "source": [
    "print(rawData)\n",
    "print(\"(rows,columns):\",rawData.shape)"
   ]
  },
  {
   "cell_type": "code",
   "execution_count": 140,
   "id": "459bcfe6",
   "metadata": {},
   "outputs": [
    {
     "name": "stdout",
     "output_type": "stream",
     "text": [
      "[['131.202.240.87-173.194.123.110-2536-443-6' '131.202.240.87' 2536 ...\n",
      "  'No Label' 'Web' 'TLS']\n",
      " ['173.194.204.189-131.202.240.87-443-2579-6' '173.194.204.189' 443 ...\n",
      "  'No Label' 'Web' 'TLS']\n",
      " ['131.202.240.87-216.58.219.206-2632-443-6' '131.202.240.87' 2632 ...\n",
      "  'No Label' 'Web' 'TLS']\n",
      " ...\n",
      " ['131.202.240.150-131.202.244.5-14600-53-17' '131.202.240.150' 14600 ...\n",
      "  'No Label' 'Network' 'DNS']\n",
      " ['131.202.240.150-131.202.244.5-55586-53-17' '131.202.240.150' 55586 ...\n",
      "  'No Label' 'Network' 'DNS']\n",
      " ['131.202.240.150-216.58.219.238-47774-443-6' '131.202.240.150' 47774\n",
      "  ... 'No Label' 'Web' 'TLS']]\n",
      "---------------------------------------------\n",
      "[['Unknown']\n",
      " ['Unknown']\n",
      " ['Unknown']\n",
      " ...\n",
      " ['Google']\n",
      " ['Google']\n",
      " ['Google']]\n"
     ]
    }
   ],
   "source": [
    "X = rawData.iloc[:,:86].values\n",
    "Y = rawData.iloc[:,86].values.reshape((1716,1))\n",
    "print(X)\n",
    "print('---------------------------------------------')\n",
    "print(Y)"
   ]
  },
  {
   "cell_type": "code",
   "execution_count": 41,
   "id": "be516af4",
   "metadata": {},
   "outputs": [
    {
     "name": "stdout",
     "output_type": "stream",
     "text": [
      "[['Web' 'TLS']\n",
      " ['Web' 'TLS']\n",
      " ['Web' 'TLS']\n",
      " ...\n",
      " ['Network' 'DNS']\n",
      " ['Network' 'DNS']\n",
      " ['Web' 'TLS']]\n"
     ]
    }
   ],
   "source": [
    "# Category and Application protocol\n",
    "X_category_AppProtocol = X[:,84:86]\n",
    "X_category = X_category_AppProtocol[:,0]\n",
    "X_category = X_category.reshape(X_category.shape[0],1)\n",
    "\n",
    "X_appProtocol = X_category_AppProtocol[:,1]\n",
    "X_appProtocol = X_appProtocol.reshape(X_appProtocol.shape[0],1)\n",
    "\n",
    "print(X_category_AppProtocol)"
   ]
  },
  {
   "cell_type": "code",
   "execution_count": 37,
   "id": "d02e4894",
   "metadata": {},
   "outputs": [
    {
     "data": {
      "image/png": "[encoded data removed]",
      "text/plain": [
       "<Figure size 1080x360 with 1 Axes>"
      ]
     },
     "metadata": {},
     "output_type": "display_data"
    }
   ],
   "source": [
    "# plot category\n",
    "plt.style.use('seaborn')\n",
    "x_category_labels = np.unique(X_category)\n",
    "fig, ax = plt.subplots(figsize=(15,5))\n",
    "\n",
    "ax.hist(X_category,rwidth=0.5,bins=np.arange(-0.5,len(x_category_labels)),edgecolor='black')\n",
    "\n",
    "plt.show()"
   ]
  },
  {
   "cell_type": "code",
   "execution_count": 133,
   "id": "545e69a1",
   "metadata": {},
   "outputs": [
    {
     "data": {
      "image/png": "[encoded data removed]",
      "text/plain": [
       "<Figure size 1080x360 with 1 Axes>"
      ]
     },
     "metadata": {},
     "output_type": "display_data"
    }
   ],
   "source": [
    "# plot what app protocols the network traffic use\n",
    "x_network_appProtocol = X_category_AppProtocol[np.where(X_category_AppProtocol[:,0] == 'Network')]\n",
    "x_network_appProtocol = x_network_appProtocol[:,1]\n",
    "x_network_appProtocol = x_network_appProtocol.reshape(x_network_appProtocol.shape[0],1)\n",
    "x_network_app_labels = np.unique(x_network_appProtocol)\n",
    "\n",
    "\n",
    "\n",
    "fig, ax = plt.subplots(figsize=(15,5))\n",
    "\n",
    "ax.hist(x_network_appProtocol,rwidth=0.05,bins=np.arange(-0.5,len(x_network_app_labels)),edgecolor='black')\n",
    "ax.set_title(\"Network Traffic\",fontsize=15)\n",
    "plt.show()"
   ]
  },
  {
   "cell_type": "code",
   "execution_count": 137,
   "id": "f771b6da",
   "metadata": {},
   "outputs": [
    {
     "data": {
      "image/png": "[encoded data removed]",
      "text/plain": [
       "<Figure size 1080x360 with 1 Axes>"
      ]
     },
     "metadata": {},
     "output_type": "display_data"
    }
   ],
   "source": [
    "# plot what app protocols the web traffic use\n",
    "x_network_appProtocol = X_category_AppProtocol[np.where(X_category_AppProtocol[:,0] == 'Web')]\n",
    "x_network_appProtocol = x_network_appProtocol[:,1]\n",
    "x_network_appProtocol = x_network_appProtocol.reshape(x_network_appProtocol.shape[0],1)\n",
    "x_network_app_labels = np.unique(x_network_appProtocol)\n",
    "\n",
    "\n",
    "fig, ax = plt.subplots(figsize=(15,5))\n",
    "\n",
    "ax.hist(x_network_appProtocol,rwidth=0.3,bins=np.arange(-0.5,len(x_network_app_labels)),edgecolor='black')\n",
    "ax.set_title(\"Web Traffic\",fontsize=15)\n",
    "plt.show()"
   ]
  },
  {
   "cell_type": "code",
   "execution_count": null,
   "id": "481a1852",
   "metadata": {},
   "outputs": [],
   "source": []
  }
 ],
 "metadata": {
  "kernelspec": {
   "display_name": "Python 3",
   "language": "python",
   "name": "python3"
  },
  "language_info": {
   "codemirror_mode": {
    "name": "ipython",
    "version": 3
   },
   "file_extension": ".py",
   "mimetype": "text/x-python",
   "name": "python",
   "nbconvert_exporter": "python",
   "pygments_lexer": "ipython3",
   "version": "3.8.8"
  }
 },
 "nbformat": 4,
 "nbformat_minor": 5
}
