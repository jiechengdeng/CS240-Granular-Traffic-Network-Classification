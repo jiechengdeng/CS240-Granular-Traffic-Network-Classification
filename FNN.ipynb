{
 "cells": [
  {
   "cell_type": "code",
   "execution_count": null,
   "id": "db5e1130",
   "metadata": {},
   "outputs": [],
   "source": [
    "import numpy as np\n",
    "import matplotlib.pyplot as plt\n",
    "import pandas as pd\n",
    "import itertools\n",
    "\n",
    "import tensorflow as tf\n",
    "from tensorflow import keras\n",
    "from keras.models import Sequential\n",
    "from keras.layers import Dense\n",
    "from keras.wrappers.scikit_learn import KerasClassifier\n",
    "\n",
    "import random\n",
    "from sklearn.model_selection import train_test_split\n",
    "from sklearn.model_selection import KFold\n",
    "from sklearn.model_selection import cross_val_score"
   ]
  },
  {
   "cell_type": "code",
   "execution_count": null,
   "id": "bb5bc69e",
   "metadata": {},
   "outputs": [],
   "source": [
    "rawData = pd.read_csv('Skype.csv')\n",
    "rawData = rawData[~rawData.isin([np.nan,np.inf,-np.inf]).any(1)] # drop all inf and nan rows\n",
    "# rawTest = pd.read_csv('facebook.csv')\n",
    "# rawTest = rawTest[~rawTest.isin([np.nan,np.inf,-np.inf]).any(1)]"
   ]
  },
  {
   "cell_type": "code",
   "execution_count": null,
   "id": "1c72dfee",
   "metadata": {},
   "outputs": [],
   "source": [
    "X = np.array(rawData.loc[:,['Tot Fwd Pkts','Tot Bwd Pkts','TotLen Fwd Pkts','TotLen Bwd Pkts','Fwd Pkt Len Max','Bwd Pkt Len Max','FirstNPkt_size','Flow Duration','Flow Byts/s','Flow Pkts/s']])\n",
    "Y = rawData.loc[:,['Label']]\n",
    "Y = np.array(pd.get_dummies(Y,columns=['Label']))"
   ]
  },
  {
   "cell_type": "code",
   "execution_count": null,
   "id": "147b9b20",
   "metadata": {},
   "outputs": [],
   "source": [
    "Xtrain,XTest,Ytrain,YTest = train_test_split(X,Y,test_size=0.3,random_state=21)\n",
    "\n",
    "#Ytrain = tf.keras.utils.to_categorical(Ytrain, num_classes=3)\n",
    "#YTest = tf.keras.utils.to_categorical(YTest, num_classes=3)\n",
    "print(Ytrain.shape)\n",
    "print(YTest.shape)\n",
    "#Ytrain = Ytrain.reshape(Ytrain.shape[0],)\n",
    "Ytrain = Ytrain.astype(np.float32)\n",
    "\n",
    "#YTest = YTest.reshape(YTest.shape[0],)\n",
    "YTest = YTest.astype(np.float32)\n",
    "print(\"Training set size:\", Xtrain.shape)\n",
    "print(\"Test set size:\",XTest.shape)"
   ]
  },
  {
   "cell_type": "code",
   "execution_count": null,
   "id": "eb6f7320",
   "metadata": {},
   "outputs": [],
   "source": [
    "n_x = X.shape[1]\n",
    "n_y = Y.shape[1]\n",
    "def baseline_model():\n",
    "    # create model\n",
    "    model = Sequential()\n",
    "    model.add(Dense(n_x, input_dim=10, activation='relu'))\n",
    "    model.add(Dense(n_y, activation='softmax'))\n",
    "    # Compile model\n",
    "    model.compile(loss='categorical_crossentropy', optimizer='adam', metrics=['accuracy'])\n",
    "    return model"
   ]
  },
  {
   "cell_type": "code",
   "execution_count": null,
   "id": "7a1938ae",
   "metadata": {},
   "outputs": [],
   "source": [
    "model = KerasClassifier(build_fn=baseline_model,epochs=100, batch_size=5, verbose=1)\n",
    "kfold = KFold(n_splits=10, shuffle=True)"
   ]
  },
  {
   "cell_type": "code",
   "execution_count": null,
   "id": "a191d959",
   "metadata": {},
   "outputs": [],
   "source": [
    "results = cross_val_score(model, X, Y, cv=kfold)"
   ]
  },
  {
   "cell_type": "code",
   "execution_count": null,
   "id": "e585082d",
   "metadata": {},
   "outputs": [],
   "source": [
    "print(\"Baseline: %.2f%% (%.2f%%)\" % (results.mean()*100, results.std()*100))"
   ]
  },
  {
   "cell_type": "code",
   "execution_count": null,
   "id": "b1b51ebb",
   "metadata": {},
   "outputs": [],
   "source": [
    "# test_loss, test_acc = model.evaluate(XTest,YTest,verbose=1)\n",
    "# print('Test Accuracy:',test_acc)"
   ]
  }
 ],
 "metadata": {
  "kernelspec": {
   "display_name": "Python 3 (ipykernel)",
   "language": "python",
   "name": "python3"
  },
  "language_info": {
   "codemirror_mode": {
    "name": "ipython",
    "version": 3
   },
   "file_extension": ".py",
   "mimetype": "text/x-python",
   "name": "python",
   "nbconvert_exporter": "python",
   "pygments_lexer": "ipython3",
   "version": "3.8.12"
  }
 },
 "nbformat": 4,
 "nbformat_minor": 5
}
